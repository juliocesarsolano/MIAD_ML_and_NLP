{
 "cells": [
  {
   "cell_type": "markdown",
   "metadata": {
    "id": "KZwI0ZNdQRsu"
   },
   "source": [
    "![image info](https://raw.githubusercontent.com/albahnsen/MIAD_ML_and_NLP/main/images/banner_1.png)"
   ]
  },
  {
   "cell_type": "markdown",
   "metadata": {
    "id": "cz1uFq6sQRsw"
   },
   "source": [
    "# Taller: Análisis de Sentimientos y Técnicas de NLP\n",
    "\n",
    "En este taller podrán poner en práctica sus conocimientos sobre las diferentes técnicas para el procesamiento de lenguaje natural. El taller está constituido por 5 puntos, en los cuales deberan seguir las intrucciones de cada numeral para su desarrollo."
   ]
  },
  {
   "cell_type": "markdown",
   "metadata": {
    "id": "AItB3OV0QRsw"
   },
   "source": [
    "## Datos predicción sentimientos de viajeros en Twitter\n",
    "\n",
    "En este taller se usará el conjunto de datos de sentimientos sobre distintas aerolíneas de EE.UU. provenientes de Twitter. Cada observación contiene si el sentimiento de los tweets es positivo, neutral o negativo teniendo en cuenta distintas variables como aerolínea y las razones de los sentimientos negativos (como \"retraso en el vuelo\" o \"servicio grosero\"). El objetivo es predecir el sentimiento asociado a cada tweet. Para más detalles pueden visitar el siguiente enlace: [datos](https://www.kaggle.com/crowdflower/twitter-airline-sentiment)."
   ]
  },
  {
   "cell_type": "code",
   "execution_count": 1,
   "metadata": {
    "executionInfo": {
     "elapsed": 6,
     "status": "ok",
     "timestamp": 1714965011306,
     "user": {
      "displayName": "Maria Camila Lenis Restrepo",
      "userId": "11409498499881875341"
     },
     "user_tz": 300
    },
    "id": "Xhjr07qtQRsx"
   },
   "outputs": [],
   "source": [
    "import warnings\n",
    "warnings.filterwarnings('ignore')"
   ]
  },
  {
   "cell_type": "code",
   "execution_count": 2,
   "metadata": {},
   "outputs": [
    {
     "name": "stdout",
     "output_type": "stream",
     "text": [
      "Requirement already satisfied: nltk in c:\\users\\kevin\\appdata\\local\\programs\\python\\python312\\lib\\site-packages (3.9.1)\n",
      "Requirement already satisfied: click in c:\\users\\kevin\\appdata\\local\\programs\\python\\python312\\lib\\site-packages (from nltk) (8.1.8)\n",
      "Requirement already satisfied: joblib in c:\\users\\kevin\\appdata\\local\\programs\\python\\python312\\lib\\site-packages (from nltk) (1.4.2)\n",
      "Requirement already satisfied: regex>=2021.8.3 in c:\\users\\kevin\\appdata\\local\\programs\\python\\python312\\lib\\site-packages (from nltk) (2024.11.6)\n",
      "Requirement already satisfied: tqdm in c:\\users\\kevin\\appdata\\local\\programs\\python\\python312\\lib\\site-packages (from nltk) (4.67.1)\n",
      "Requirement already satisfied: colorama in c:\\users\\kevin\\appdata\\roaming\\python\\python312\\site-packages (from click->nltk) (0.4.6)\n"
     ]
    },
    {
     "name": "stderr",
     "output_type": "stream",
     "text": [
      "WARNING: Ignoring invalid distribution ~treamlit (C:\\Users\\kevin\\AppData\\Local\\Programs\\Python\\Python312\\Lib\\site-packages)\n",
      "WARNING: Ignoring invalid distribution ~treamlit (C:\\Users\\kevin\\AppData\\Local\\Programs\\Python\\Python312\\Lib\\site-packages)\n",
      "WARNING: Ignoring invalid distribution ~treamlit (C:\\Users\\kevin\\AppData\\Local\\Programs\\Python\\Python312\\Lib\\site-packages)\n",
      "\n",
      "[notice] A new release of pip is available: 24.3.1 -> 25.1\n",
      "[notice] To update, run: python.exe -m pip install --upgrade pip\n"
     ]
    }
   ],
   "source": [
    "!pip install -U nltk "
   ]
  },
  {
   "cell_type": "code",
   "execution_count": 3,
   "metadata": {},
   "outputs": [
    {
     "name": "stderr",
     "output_type": "stream",
     "text": [
      "[nltk_data] Downloading package punkt to\n",
      "[nltk_data]     C:\\Users\\kevin\\AppData\\Roaming\\nltk_data...\n",
      "[nltk_data]   Package punkt is already up-to-date!\n",
      "[nltk_data] Downloading package wordnet to\n",
      "[nltk_data]     C:\\Users\\kevin\\AppData\\Roaming\\nltk_data...\n",
      "[nltk_data]   Package wordnet is already up-to-date!\n",
      "[nltk_data] Downloading package omw-1.4 to\n",
      "[nltk_data]     C:\\Users\\kevin\\AppData\\Roaming\\nltk_data...\n",
      "[nltk_data]   Package omw-1.4 is already up-to-date!\n"
     ]
    },
    {
     "data": {
      "text/plain": [
       "True"
      ]
     },
     "execution_count": 3,
     "metadata": {},
     "output_type": "execute_result"
    }
   ],
   "source": [
    "# Descargar los paquetes necesarios de nltk\n",
    "import nltk\n",
    "nltk.download('punkt')\n",
    "nltk.download('wordnet')\n",
    "nltk.download('omw-1.4')"
   ]
  },
  {
   "cell_type": "code",
   "execution_count": 4,
   "metadata": {
    "executionInfo": {
     "elapsed": 432,
     "status": "ok",
     "timestamp": 1714965011734,
     "user": {
      "displayName": "Maria Camila Lenis Restrepo",
      "userId": "11409498499881875341"
     },
     "user_tz": 300
    },
    "id": "JUqJ4EcVQRsx"
   },
   "outputs": [],
   "source": [
    "# Librerías\n",
    "import pandas as pd\n",
    "import numpy as np\n",
    "import nltk\n",
    "import matplotlib.pyplot as plt\n",
    "from sklearn.model_selection import train_test_split, cross_val_score\n",
    "from sklearn.feature_extraction.text import CountVectorizer, TfidfVectorizer\n",
    "from sklearn.ensemble import RandomForestClassifier\n",
    "from nltk.stem.snowball import SnowballStemmer\n",
    "from nltk.corpus import stopwords\n",
    "from nltk.stem import WordNetLemmatizer\n",
    "from sklearn.metrics import accuracy_score\n",
    "from sklearn.metrics import classification_report, confusion_matrix, roc_auc_score\n",
    "%matplotlib inline"
   ]
  },
  {
   "cell_type": "code",
   "execution_count": 5,
   "metadata": {
    "colab": {
     "base_uri": "https://localhost:8080/",
     "height": 483
    },
    "executionInfo": {
     "elapsed": 1249,
     "status": "ok",
     "timestamp": 1714965016253,
     "user": {
      "displayName": "Maria Camila Lenis Restrepo",
      "userId": "11409498499881875341"
     },
     "user_tz": 300
    },
    "id": "ejnlYDuqQRsx",
    "outputId": "7801d22d-7517-4e54-c136-3e2dff4217af"
   },
   "outputs": [
    {
     "data": {
      "text/html": [
       "<div>\n",
       "<style scoped>\n",
       "    .dataframe tbody tr th:only-of-type {\n",
       "        vertical-align: middle;\n",
       "    }\n",
       "\n",
       "    .dataframe tbody tr th {\n",
       "        vertical-align: top;\n",
       "    }\n",
       "\n",
       "    .dataframe thead th {\n",
       "        text-align: right;\n",
       "    }\n",
       "</style>\n",
       "<table border=\"1\" class=\"dataframe\">\n",
       "  <thead>\n",
       "    <tr style=\"text-align: right;\">\n",
       "      <th></th>\n",
       "      <th>airline_sentiment</th>\n",
       "      <th>airline_sentiment_confidence</th>\n",
       "      <th>negativereason</th>\n",
       "      <th>negativereason_confidence</th>\n",
       "      <th>airline</th>\n",
       "      <th>airline_sentiment_gold</th>\n",
       "      <th>name</th>\n",
       "      <th>negativereason_gold</th>\n",
       "      <th>retweet_count</th>\n",
       "      <th>text</th>\n",
       "      <th>tweet_coord</th>\n",
       "      <th>tweet_created</th>\n",
       "      <th>tweet_location</th>\n",
       "      <th>user_timezone</th>\n",
       "    </tr>\n",
       "    <tr>\n",
       "      <th>tweet_id</th>\n",
       "      <th></th>\n",
       "      <th></th>\n",
       "      <th></th>\n",
       "      <th></th>\n",
       "      <th></th>\n",
       "      <th></th>\n",
       "      <th></th>\n",
       "      <th></th>\n",
       "      <th></th>\n",
       "      <th></th>\n",
       "      <th></th>\n",
       "      <th></th>\n",
       "      <th></th>\n",
       "      <th></th>\n",
       "    </tr>\n",
       "  </thead>\n",
       "  <tbody>\n",
       "    <tr>\n",
       "      <th>570306133677760513</th>\n",
       "      <td>neutral</td>\n",
       "      <td>1.0000</td>\n",
       "      <td>NaN</td>\n",
       "      <td>NaN</td>\n",
       "      <td>Virgin America</td>\n",
       "      <td>NaN</td>\n",
       "      <td>cairdin</td>\n",
       "      <td>NaN</td>\n",
       "      <td>0</td>\n",
       "      <td>@VirginAmerica What @dhepburn said.</td>\n",
       "      <td>NaN</td>\n",
       "      <td>2015-02-24 11:35:52 -0800</td>\n",
       "      <td>NaN</td>\n",
       "      <td>Eastern Time (US &amp; Canada)</td>\n",
       "    </tr>\n",
       "    <tr>\n",
       "      <th>570301130888122368</th>\n",
       "      <td>positive</td>\n",
       "      <td>0.3486</td>\n",
       "      <td>NaN</td>\n",
       "      <td>0.0000</td>\n",
       "      <td>Virgin America</td>\n",
       "      <td>NaN</td>\n",
       "      <td>jnardino</td>\n",
       "      <td>NaN</td>\n",
       "      <td>0</td>\n",
       "      <td>@VirginAmerica plus you've added commercials t...</td>\n",
       "      <td>NaN</td>\n",
       "      <td>2015-02-24 11:15:59 -0800</td>\n",
       "      <td>NaN</td>\n",
       "      <td>Pacific Time (US &amp; Canada)</td>\n",
       "    </tr>\n",
       "    <tr>\n",
       "      <th>570301083672813571</th>\n",
       "      <td>neutral</td>\n",
       "      <td>0.6837</td>\n",
       "      <td>NaN</td>\n",
       "      <td>NaN</td>\n",
       "      <td>Virgin America</td>\n",
       "      <td>NaN</td>\n",
       "      <td>yvonnalynn</td>\n",
       "      <td>NaN</td>\n",
       "      <td>0</td>\n",
       "      <td>@VirginAmerica I didn't today... Must mean I n...</td>\n",
       "      <td>NaN</td>\n",
       "      <td>2015-02-24 11:15:48 -0800</td>\n",
       "      <td>Lets Play</td>\n",
       "      <td>Central Time (US &amp; Canada)</td>\n",
       "    </tr>\n",
       "    <tr>\n",
       "      <th>570301031407624196</th>\n",
       "      <td>negative</td>\n",
       "      <td>1.0000</td>\n",
       "      <td>Bad Flight</td>\n",
       "      <td>0.7033</td>\n",
       "      <td>Virgin America</td>\n",
       "      <td>NaN</td>\n",
       "      <td>jnardino</td>\n",
       "      <td>NaN</td>\n",
       "      <td>0</td>\n",
       "      <td>@VirginAmerica it's really aggressive to blast...</td>\n",
       "      <td>NaN</td>\n",
       "      <td>2015-02-24 11:15:36 -0800</td>\n",
       "      <td>NaN</td>\n",
       "      <td>Pacific Time (US &amp; Canada)</td>\n",
       "    </tr>\n",
       "    <tr>\n",
       "      <th>570300817074462722</th>\n",
       "      <td>negative</td>\n",
       "      <td>1.0000</td>\n",
       "      <td>Can't Tell</td>\n",
       "      <td>1.0000</td>\n",
       "      <td>Virgin America</td>\n",
       "      <td>NaN</td>\n",
       "      <td>jnardino</td>\n",
       "      <td>NaN</td>\n",
       "      <td>0</td>\n",
       "      <td>@VirginAmerica and it's a really big bad thing...</td>\n",
       "      <td>NaN</td>\n",
       "      <td>2015-02-24 11:14:45 -0800</td>\n",
       "      <td>NaN</td>\n",
       "      <td>Pacific Time (US &amp; Canada)</td>\n",
       "    </tr>\n",
       "  </tbody>\n",
       "</table>\n",
       "</div>"
      ],
      "text/plain": [
       "                   airline_sentiment  airline_sentiment_confidence  \\\n",
       "tweet_id                                                             \n",
       "570306133677760513           neutral                        1.0000   \n",
       "570301130888122368          positive                        0.3486   \n",
       "570301083672813571           neutral                        0.6837   \n",
       "570301031407624196          negative                        1.0000   \n",
       "570300817074462722          negative                        1.0000   \n",
       "\n",
       "                   negativereason  negativereason_confidence         airline  \\\n",
       "tweet_id                                                                       \n",
       "570306133677760513            NaN                        NaN  Virgin America   \n",
       "570301130888122368            NaN                     0.0000  Virgin America   \n",
       "570301083672813571            NaN                        NaN  Virgin America   \n",
       "570301031407624196     Bad Flight                     0.7033  Virgin America   \n",
       "570300817074462722     Can't Tell                     1.0000  Virgin America   \n",
       "\n",
       "                   airline_sentiment_gold        name negativereason_gold  \\\n",
       "tweet_id                                                                    \n",
       "570306133677760513                    NaN     cairdin                 NaN   \n",
       "570301130888122368                    NaN    jnardino                 NaN   \n",
       "570301083672813571                    NaN  yvonnalynn                 NaN   \n",
       "570301031407624196                    NaN    jnardino                 NaN   \n",
       "570300817074462722                    NaN    jnardino                 NaN   \n",
       "\n",
       "                    retweet_count  \\\n",
       "tweet_id                            \n",
       "570306133677760513              0   \n",
       "570301130888122368              0   \n",
       "570301083672813571              0   \n",
       "570301031407624196              0   \n",
       "570300817074462722              0   \n",
       "\n",
       "                                                                 text  \\\n",
       "tweet_id                                                                \n",
       "570306133677760513                @VirginAmerica What @dhepburn said.   \n",
       "570301130888122368  @VirginAmerica plus you've added commercials t...   \n",
       "570301083672813571  @VirginAmerica I didn't today... Must mean I n...   \n",
       "570301031407624196  @VirginAmerica it's really aggressive to blast...   \n",
       "570300817074462722  @VirginAmerica and it's a really big bad thing...   \n",
       "\n",
       "                   tweet_coord              tweet_created tweet_location  \\\n",
       "tweet_id                                                                   \n",
       "570306133677760513         NaN  2015-02-24 11:35:52 -0800            NaN   \n",
       "570301130888122368         NaN  2015-02-24 11:15:59 -0800            NaN   \n",
       "570301083672813571         NaN  2015-02-24 11:15:48 -0800      Lets Play   \n",
       "570301031407624196         NaN  2015-02-24 11:15:36 -0800            NaN   \n",
       "570300817074462722         NaN  2015-02-24 11:14:45 -0800            NaN   \n",
       "\n",
       "                                 user_timezone  \n",
       "tweet_id                                        \n",
       "570306133677760513  Eastern Time (US & Canada)  \n",
       "570301130888122368  Pacific Time (US & Canada)  \n",
       "570301083672813571  Central Time (US & Canada)  \n",
       "570301031407624196  Pacific Time (US & Canada)  \n",
       "570300817074462722  Pacific Time (US & Canada)  "
      ]
     },
     "execution_count": 5,
     "metadata": {},
     "output_type": "execute_result"
    }
   ],
   "source": [
    "# Lectura de la información de archivo .zip\n",
    "tweets = pd.read_csv('https://raw.githubusercontent.com/albahnsen/MIAD_ML_and_NLP/main/datasets/Tweets.zip', index_col=0)\n",
    "\n",
    "# Visualización\n",
    "tweets.head()"
   ]
  },
  {
   "cell_type": "code",
   "execution_count": 6,
   "metadata": {
    "colab": {
     "base_uri": "https://localhost:8080/"
    },
    "executionInfo": {
     "elapsed": 222,
     "status": "ok",
     "timestamp": 1714965022251,
     "user": {
      "displayName": "Maria Camila Lenis Restrepo",
      "userId": "11409498499881875341"
     },
     "user_tz": 300
    },
    "id": "rADjaJhqQRsy",
    "outputId": "bf51d5ff-c5d3-4f77-905f-7547993041bc"
   },
   "outputs": [
    {
     "data": {
      "text/plain": [
       "(14640, 14)"
      ]
     },
     "execution_count": 6,
     "metadata": {},
     "output_type": "execute_result"
    }
   ],
   "source": [
    "# Tamaño del set de datos\n",
    "tweets.shape"
   ]
  },
  {
   "cell_type": "markdown",
   "metadata": {
    "id": "lXo294y_QRsy"
   },
   "source": [
    "### Análisis Descriptivo"
   ]
  },
  {
   "cell_type": "code",
   "execution_count": 7,
   "metadata": {
    "colab": {
     "base_uri": "https://localhost:8080/"
    },
    "executionInfo": {
     "elapsed": 311,
     "status": "ok",
     "timestamp": 1714965025836,
     "user": {
      "displayName": "Maria Camila Lenis Restrepo",
      "userId": "11409498499881875341"
     },
     "user_tz": 300
    },
    "id": "21rTWcU4QRsy",
    "outputId": "31d590c6-0b88-4521-a3fa-eebcdca8d300"
   },
   "outputs": [
    {
     "data": {
      "text/plain": [
       "airline_sentiment\n",
       "negative    9178\n",
       "neutral     3099\n",
       "positive    2363\n",
       "Name: count, dtype: int64"
      ]
     },
     "execution_count": 7,
     "metadata": {},
     "output_type": "execute_result"
    }
   ],
   "source": [
    "# Cuenta de tweets por cada sentimiento\n",
    "tweets['airline_sentiment'].value_counts()"
   ]
  },
  {
   "cell_type": "code",
   "execution_count": 8,
   "metadata": {
    "colab": {
     "base_uri": "https://localhost:8080/"
    },
    "executionInfo": {
     "elapsed": 240,
     "status": "ok",
     "timestamp": 1714965046695,
     "user": {
      "displayName": "Maria Camila Lenis Restrepo",
      "userId": "11409498499881875341"
     },
     "user_tz": 300
    },
    "id": "fljqfHCSQRsy",
    "outputId": "23374f1a-ce80-4df7-e15f-b292875be15e"
   },
   "outputs": [
    {
     "data": {
      "text/plain": [
       "airline\n",
       "United            3822\n",
       "US Airways        2913\n",
       "American          2759\n",
       "Southwest         2420\n",
       "Delta             2222\n",
       "Virgin America     504\n",
       "Name: count, dtype: int64"
      ]
     },
     "execution_count": 8,
     "metadata": {},
     "output_type": "execute_result"
    }
   ],
   "source": [
    "# Cuenta de tweets por cada aerolínea\n",
    "tweets['airline'].value_counts()"
   ]
  },
  {
   "cell_type": "code",
   "execution_count": 9,
   "metadata": {},
   "outputs": [
    {
     "data": {
      "image/png": "[encoded data removed]",
      "text/plain": [
       "<Figure size 800x500 with 1 Axes>"
      ]
     },
     "metadata": {},
     "output_type": "display_data"
    }
   ],
   "source": [
    "# Gráfico de tweets por cada aerolínea y tipo de sentimiento\n",
    "pd.crosstab(index=tweets[\"airline\"], columns=tweets[\"airline_sentiment\"]).plot(\n",
    "    kind='bar',\n",
    "    figsize=(8, 5),\n",
    "    alpha=0.8,  # Más opaco (ajusté el alpha a 0.8 para que se vea mejor)\n",
    "    rot=0,\n",
    "    stacked=True,\n",
    "    title=\"Sentimientos por Aerolínea\",\n",
    "    color=['#1f77b4', '#ff7f0e', '#2ca02c']\n",
    ")\n",
    "\n",
    "plt.xlabel(\"Aerolínea\")\n",
    "plt.ylabel(\"Cantidad de Tweets\")\n",
    "plt.tight_layout()\n",
    "plt.show()"
   ]
  },
  {
   "cell_type": "code",
   "execution_count": 10,
   "metadata": {
    "executionInfo": {
     "elapsed": 1,
     "status": "ok",
     "timestamp": 1714965060221,
     "user": {
      "displayName": "Maria Camila Lenis Restrepo",
      "userId": "11409498499881875341"
     },
     "user_tz": 300
    },
    "id": "wCSPjTVpQRsz"
   },
   "outputs": [],
   "source": [
    "# Separación de variables predictoras (X) y de variable de interés (y)\n",
    "X = tweets['text']\n",
    "y = tweets['airline_sentiment'].map({'negative':-1,'neutral':0,'positive':1})"
   ]
  },
  {
   "cell_type": "code",
   "execution_count": 11,
   "metadata": {
    "executionInfo": {
     "elapsed": 2,
     "status": "ok",
     "timestamp": 1714965060437,
     "user": {
      "displayName": "Maria Camila Lenis Restrepo",
      "userId": "11409498499881875341"
     },
     "user_tz": 300
    },
    "id": "DkqG6KitQRsz"
   },
   "outputs": [],
   "source": [
    "# Separación de datos en set de entrenamiento y test\n",
    "X_train, X_test, y_train, y_test = train_test_split(X, y, test_size=0.33, random_state=17)"
   ]
  },
  {
   "cell_type": "markdown",
   "metadata": {
    "id": "7jBT-KePQRsz"
   },
   "source": [
    "### Punto 1 - Uso de CountVectorizer\n",
    "\n",
    "En la celda 1 creen un modelo de random forest con la libreria sklearn que prediga el sentimiento de los tweets usando los set de entrenamiento y test definidos anteriormente. Usen la función **CountVectorizer** y presenten el desempeño del modelo con la métrica del acurracy.\n",
    "\n",
    "Recuerden que el preprocesamiento que se haga sobre los datos de entrenamiento  (*.fit_transform()*) deben ser aplicado al set de test (*.transform()*)."
   ]
  },
  {
   "cell_type": "code",
   "execution_count": 12,
   "metadata": {
    "colab": {
     "base_uri": "https://localhost:8080/"
    },
    "executionInfo": {
     "elapsed": 18524,
     "status": "ok",
     "timestamp": 1714966859014,
     "user": {
      "displayName": "Maria Camila Lenis Restrepo",
      "userId": "11409498499881875341"
     },
     "user_tz": 300
    },
    "id": "Jh_1YYFiQRsz",
    "outputId": "74b2a91e-071f-4969-e8c7-53706b34e07b"
   },
   "outputs": [
    {
     "name": "stdout",
     "output_type": "stream",
     "text": [
      "Accuracy: 0.761796357615894\n"
     ]
    }
   ],
   "source": [
    "# Preprocesamiento de texto con CountVectorizer\n",
    "vectorizer = CountVectorizer()\n",
    "X_train_vect = vectorizer.fit_transform(X_train)\n",
    "X_test_vect = vectorizer.transform(X_test)\n",
    "\n",
    "# Modelo RandomForestRegressor\n",
    "model = RandomForestClassifier(random_state=0)\n",
    "\n",
    "# Entrenamiento del modelo\n",
    "model.fit(X_train_vect, y_train)\n",
    "\n",
    "# Predección de los valores para el conjunto de prueba\n",
    "y_pred = model.predict(X_test_vect)\n",
    "\n",
    "# Accuracy\n",
    "accuracy_vectorizer = accuracy_score(y_test, y_pred)\n",
    "print(\"Accuracy:\", accuracy_vectorizer)"
   ]
  },
  {
   "cell_type": "markdown",
   "metadata": {
    "id": "Nmf1R_6Pr27P"
   },
   "source": [
    "### Análisis de Resultados\n",
    "\n",
    "Se utiliza CountVectorizer para procesar los tweets y luego de aplicar un modelo de **Random Forest Classifier** el accuracy es de 76.2%, lo que indica que fue capaz de hacer predicciones relativamente confiables. Este método de preprocesamiento tiene puntos importantes de mejora, no tiene en cuenta la relevancia de las palabras en un contexto o tomar palabras que sean sinónimos como palabras diferentes."
   ]
  },
  {
   "cell_type": "markdown",
   "metadata": {
    "id": "q9zu3OrVQRsz"
   },
   "source": [
    "### Punto 2 - Eliminación de Stopwords\n",
    "\n",
    "En la celda 2 creen un modelo de random forest con la libreria sklearn que prediga el sentimiento de los tweets usando los set de entrenamiento y test definidos anteriormente. Usen la función CountVectorizer, **eliminen stopwords** y presenten el desempeño del modelo con la métrica del acurracy.\n",
    "\n",
    "Recuerden que el preprocesamiento que se haga sobre los datos de entrenamiento  (*.fit_transform()*) deben ser aplicado al set de test (*.transform()*)."
   ]
  },
  {
   "cell_type": "code",
   "execution_count": null,
   "metadata": {
    "colab": {
     "base_uri": "https://localhost:8080/"
    },
    "executionInfo": {
     "elapsed": 17884,
     "status": "ok",
     "timestamp": 1714966890260,
     "user": {
      "displayName": "Maria Camila Lenis Restrepo",
      "userId": "11409498499881875341"
     },
     "user_tz": 300
    },
    "id": "LXI1pHbJQRsz",
    "outputId": "4700357f-3d02-4260-c2a9-e08a03b0bd7e"
   },
   "outputs": [
    {
     "name": "stdout",
     "output_type": "stream",
     "text": [
      "Accuracy del modelo sin stopwords: 0.7566225165562914\n"
     ]
    }
   ],
   "source": [
    "# Vectorización eliminando stopwords en inglés\n",
    "vectorizer = CountVectorizer(stop_words='english')\n",
    "X_train_vect = vectorizer.fit_transform(X_train)\n",
    "X_test_vect = vectorizer.transform(X_test)\n",
    "\n",
    "# Crear y entrenar el modelo de Random Forest\n",
    "model_sin_stopwords = RandomForestClassifier(random_state=0)\n",
    "model_sin_stopwords.fit(X_train_vect, y_train)\n",
    "\n",
    "# Predicción y evaluación\n",
    "y_pred1 = model_sin_stopwords.predict(X_test_vect)\n",
    "accuracy_sin_stopwords = accuracy_score(y_test, y_pred)\n",
    "\n",
    "# Mostrar resultado\n",
    "print(\"Accuracy del modelo sin stopwords:\", accuracy_sin_stopwords)\n"
   ]
  },
  {
   "cell_type": "code",
   "execution_count": 23,
   "metadata": {},
   "outputs": [
    {
     "name": "stdout",
     "output_type": "stream",
     "text": [
      "Modelo con stopwords\n",
      "              precision    recall  f1-score   support\n",
      "\n",
      "          -1       0.82      0.89      0.85      3046\n",
      "           0       0.59      0.48      0.53      1032\n",
      "           1       0.68      0.58      0.62       754\n",
      "\n",
      "    accuracy                           0.76      4832\n",
      "   macro avg       0.69      0.65      0.67      4832\n",
      "weighted avg       0.74      0.76      0.75      4832\n",
      "\n",
      "Modelo sin stopwords\n",
      "              precision    recall  f1-score   support\n",
      "\n",
      "          -1       0.82      0.89      0.85      3046\n",
      "           0       0.59      0.48      0.53      1032\n",
      "           1       0.68      0.58      0.62       754\n",
      "\n",
      "    accuracy                           0.76      4832\n",
      "   macro avg       0.69      0.65      0.67      4832\n",
      "weighted avg       0.74      0.76      0.75      4832\n",
      "\n"
     ]
    }
   ],
   "source": [
    "print(\"Modelo con stopwords\")\n",
    "print(classification_report(y_test, y_pred))\n",
    "print(\"Modelo sin stopwords\")\n",
    "print(classification_report(y_test, y_pred1))"
   ]
  },
  {
   "cell_type": "markdown",
   "metadata": {
    "id": "1MwZS3zisxyH"
   },
   "source": [
    "### Análisis de Resultados\n",
    "\n",
    "Al utilizar CountVectorizer sin utilizar las \"stopwords\" del idioma inglés, se obtiene un accuracy del 75.7%. Este resultado indica que eliminar las stopwords tiene un efecto negativo. Estos resultados van a depender del contexto de los datos que se está utilizando, para este caso, parece que los stopwords aportaban valor en la predicción.\n",
    "\n",
    "Ahora, nuestra hipótesis es que al quitar las stopwords pueda que se quite información útil a nivel contextual, así que se aplica un segmento de código que permite validar que los textos cortos es importante cada palabra, sobre todo en el análisis de sentimiento. Las stopwords como \"not\", \"never\", \"won’t\", \"just\", \"still\" tienen valor semántico en análisis de sentimientos. "
   ]
  },
  {
   "cell_type": "markdown",
   "metadata": {
    "id": "wn3NOGaeQRsz"
   },
   "source": [
    "### Punto 3 - Lematización con Verbos\n",
    "\n",
    "En la celda 3 creen un modelo de random forest con la libreria sklearn que prediga el sentimiento de los tweets usando los set de entrenamiento y test definidos anteriormente. Usen la función CountVectorizer, **lematizen el texto con verbos** y presenten el desempeño del modelo con la métrica del acurracy.\n",
    "\n",
    "Recuerden que el preprocesamiento que se haga sobre los datos de entrenamiento  (*.fit_transform()*) deben ser aplicado al set de test (*.transform()*)."
   ]
  },
  {
   "cell_type": "code",
   "execution_count": 15,
   "metadata": {},
   "outputs": [
    {
     "name": "stderr",
     "output_type": "stream",
     "text": [
      "[nltk_data] Downloading package stopwords to\n",
      "[nltk_data]     C:\\Users\\kevin\\AppData\\Roaming\\nltk_data...\n",
      "[nltk_data]   Package stopwords is already up-to-date!\n"
     ]
    },
    {
     "data": {
      "text/plain": [
       "True"
      ]
     },
     "execution_count": 15,
     "metadata": {},
     "output_type": "execute_result"
    }
   ],
   "source": [
    "nltk.download('stopwords')"
   ]
  },
  {
   "cell_type": "code",
   "execution_count": 16,
   "metadata": {
    "colab": {
     "base_uri": "https://localhost:8080/"
    },
    "executionInfo": {
     "elapsed": 26504,
     "status": "ok",
     "timestamp": 1714966935078,
     "user": {
      "displayName": "Maria Camila Lenis Restrepo",
      "userId": "11409498499881875341"
     },
     "user_tz": 300
    },
    "id": "YFph0z8nQRsz",
    "outputId": "200cb679-640c-4330-fe29-d2f9273dae63"
   },
   "outputs": [
    {
     "name": "stdout",
     "output_type": "stream",
     "text": [
      "Accuracy del modelo de Random Forest con lematización y stopwords (corregido): 0.7485513245033113\n"
     ]
    }
   ],
   "source": [
    "# Inicializar lematizador y stopwords\n",
    "wordnet_lemmatizer = WordNetLemmatizer()\n",
    "stop_words = set(stopwords.words('english'))\n",
    "\n",
    "# Función personalizada: lematización como verbo + eliminar stopwords\n",
    "def split_into_lemmas(text):\n",
    "    text = text.lower()\n",
    "    words = text.split()\n",
    "    return [\n",
    "        wordnet_lemmatizer.lemmatize(word, pos='v')\n",
    "        for word in words if word not in stop_words\n",
    "    ]\n",
    "\n",
    "# Crear CountVectorizer con función personalizada\n",
    "vectorizer = CountVectorizer(analyzer=split_into_lemmas)\n",
    "\n",
    "# Vectorizar los datos\n",
    "X_train_vect = vectorizer.fit_transform(X_train)\n",
    "X_test_vect = vectorizer.transform(X_test)\n",
    "\n",
    "# Modelo Random Forest\n",
    "modelo_rf = RandomForestClassifier(random_state=0)\n",
    "modelo_rf.fit(X_train_vect, y_train)\n",
    "\n",
    "# Predicción y evaluación\n",
    "y_pred = modelo_rf.predict(X_test_vect)\n",
    "accuracy_lema = accuracy_score(y_test, y_pred)\n",
    "\n",
    "# Mostrar resultado\n",
    "print(\"Accuracy del modelo de Random Forest con lematización y stopwords (corregido):\", accuracy_lema)"
   ]
  },
  {
   "cell_type": "markdown",
   "metadata": {
    "id": "Inzjba0RyPmr"
   },
   "source": [
    "### Análisis de Resultados\n",
    "\n",
    "Al utilizar CounVectorizer y procesar el texto con lematización de verbos y utilizando nuevamente el modelo de Random Forest Classifier obtenemos un accuracy del 74.9%, lo cual mejora ligeramente el modelo en comparación con solo eliminar las stopwords. No supera el modelo base, lo que podría generarse porque al quitar las palabras comunes podría estar quitando informaciómn útil. "
   ]
  },
  {
   "cell_type": "markdown",
   "metadata": {
    "id": "1DVlSYUpQRsz"
   },
   "source": [
    "### Punto 4 - Multiples Técnicas\n",
    "\n",
    "En la celda 4 creen un modelo de random forest con la libreria sklearn que prediga el sentimiento de los tweets usando los set de entrenamiento y test definidos anteriormente. Usen la función **CountVectorizer, eliminen stopwords, lematizen el texto con verbos** y presenten el desempeño del modelo con la métrica del acurracy.\n",
    "\n",
    "Recuerden que el preprocesamiento que se haga sobre los datos de entrenamiento  (*.fit_transform()*) deben ser aplicado al set de test (*.transform()*)."
   ]
  },
  {
   "cell_type": "code",
   "execution_count": 17,
   "metadata": {
    "colab": {
     "base_uri": "https://localhost:8080/"
    },
    "executionInfo": {
     "elapsed": 21583,
     "status": "ok",
     "timestamp": 1714967106610,
     "user": {
      "displayName": "Maria Camila Lenis Restrepo",
      "userId": "11409498499881875341"
     },
     "user_tz": 300
    },
    "id": "oPePb5PvvgJQ",
    "outputId": "854bfcc3-39a4-48c4-a26f-5005a94ba767"
   },
   "outputs": [
    {
     "name": "stdout",
     "output_type": "stream",
     "text": [
      "Accuracy del modelo de Random Forest con todos los pasos de preprocesamiento: 0.7437913907284768\n"
     ]
    }
   ],
   "source": [
    "wordnet_lemmatizer = WordNetLemmatizer()\n",
    "\n",
    "# función para lematizar el texto con verbos\n",
    "def split_into_lemmas(text):\n",
    "    text = text.lower()\n",
    "    words = text.split()\n",
    "    return [wordnet_lemmatizer.lemmatize(word , pos='v') for word in words]\n",
    "\n",
    "# Crear un objeto CountVectorizer con la función de lematización split_into_lemmas\n",
    "vectorizer = CountVectorizer(stop_words='english', analyzer=split_into_lemmas)\n",
    "\n",
    "X_train_vect = vectorizer.fit_transform(X_train)\n",
    "X_test_vect = vectorizer.transform(X_test)\n",
    "\n",
    "# Crear y entrenar el modelo de Random Forest\n",
    "modelo_rf = RandomForestClassifier(random_state=0)\n",
    "modelo_rf.fit(X_train_vect, y_train)\n",
    "\n",
    "y_pred = modelo_rf.predict(X_test_vect)\n",
    "\n",
    "accuracy_all = accuracy_score(y_test, y_pred)\n",
    "\n",
    "# Imprimir el accuracy del modelo\n",
    "print(\"Accuracy del modelo de Random Forest con todos los pasos de preprocesamiento:\", accuracy_all)"
   ]
  },
  {
   "cell_type": "markdown",
   "metadata": {
    "id": "8Lpm1hHoyvDn"
   },
   "source": [
    "### Análisis de Resultados\n",
    "\n",
    "En el punto 4 utilizamos el método CountVectorizer y a continuación procesamos los tweets sin las stopwords y lematizando los verbos. Al igual que en puntos anteriores aplicamos el modelo de Random Forest Classifier obteniendo un accuracy de 74.4% que es el resultado más bajo de las 4 variaciones de procesamiento de texto. Este resultado es contradictorio teniendo en cuenta que habíamos visto mejoras usando lematización, pero nuevamente esto podría darnos información del contexto de los datos que estamos analizando y qué tan beneficioso es o no quitar las stopwords aunque apliquemos lematización."
   ]
  },
  {
   "cell_type": "markdown",
   "metadata": {
    "id": "SvMwNFd_QRsz"
   },
   "source": [
    "### Punto 5 - Comparación y Análisis de Resultados\n",
    "\n",
    "En la celda 5 comparen los resultados obtenidos de los diferentes modelos (random forest) y comenten las ventajas del mejor modelo y las desventajas del modelo con el menor desempeño."
   ]
  },
  {
   "cell_type": "code",
   "execution_count": 24,
   "metadata": {
    "colab": {
     "base_uri": "https://localhost:8080/",
     "height": 607
    },
    "executionInfo": {
     "elapsed": 908,
     "status": "ok",
     "timestamp": 1714967298363,
     "user": {
      "displayName": "Maria Camila Lenis Restrepo",
      "userId": "11409498499881875341"
     },
     "user_tz": 300
    },
    "id": "4GZN1dNxQRsz",
    "outputId": "cb174b10-d97e-4f61-c2b1-7bf58a42937a"
   },
   "outputs": [
    {
     "data": {
      "image/png": "[encoded data removed]",
      "text/plain": [
       "<Figure size 800x600 with 1 Axes>"
      ]
     },
     "metadata": {},
     "output_type": "display_data"
    }
   ],
   "source": [
    "# Gráfica de barras\n",
    "plt.figure(figsize=(8, 6))\n",
    "plt.bar([\"CountVectorizer\", \"Eliminar Stopwords\", \"Con Lematización\", \"Preprocesado Completo\"],\n",
    "        [accuracy_vectorizer, accuracy_sin_stopwords, accuracy_lema, accuracy_all],\n",
    "        color='green')  \n",
    "\n",
    "# Agregar etiquetas a las barras\n",
    "for i, valor in enumerate([accuracy_vectorizer, accuracy_sin_stopwords, accuracy_lema, accuracy_all]):\n",
    "    plt.text(i, valor, f'{valor:.6f}', ha='center', va='bottom')\n",
    "\n",
    "# Títulos y etiquetas\n",
    "plt.xlabel('Modelos')\n",
    "plt.ylabel('Accuracy')\n",
    "plt.title('Comparación de Accuracy entre preprocesados en modelo Random Forest')\n",
    "plt.ylim(0, max([accuracy_vectorizer, accuracy_sin_stopwords, accuracy_lema, accuracy_all]) * 1.1)\n",
    "plt.grid(axis='y', linestyle='--', alpha=0.7)\n",
    "\n",
    "# Mostrar la gráfica\n",
    "plt.tight_layout()\n",
    "plt.show()"
   ]
  },
  {
   "cell_type": "markdown",
   "metadata": {
    "id": "H3qHC6_ozmtI"
   },
   "source": [
    "### Conclusiones\n",
    "\n",
    "Durante el preprocesamiento de los tweets se evaluaron distintas variantes: el uso del texto completo, la eliminación de stopwords, la lematización, y la combinación de eliminación de stopwords con lematización.\n",
    "\n",
    "Los resultados mostraron que el mejor desempeño en términos de accuracy se obtuvo utilizando únicamente la lematización. En segundo lugar se ubicó la estrategia de utilizar el texto completo sin modificaciones. Esto sugiere que conservar las formas base de las palabras, en particular de los verbos, facilita que el modelo clasifique de manera más efectiva los sentimientos expresados en los tweets.\n",
    "\n",
    "Finalmente, dado el contexto de análisis, se considera que mantener la mayor cantidad de contenido original del tweet puede ser beneficioso para comprender mejor la intención del mensaje. Además, la presencia de abreviaciones, modismos y otras formas informales de escritura propias de este tipo de plataformas podría estar aportando información importante, por lo que sería conveniente tenerlo en cuenta en futuras etapas de preprocesamiento para seguir optimizando el rendimiento del modelo."
   ]
  }
 ],
 "metadata": {
  "colab": {
   "provenance": []
  },
  "kernelspec": {
   "display_name": "Python 3",
   "language": "python",
   "name": "python3"
  },
  "language_info": {
   "codemirror_mode": {
    "name": "ipython",
    "version": 3
   },
   "file_extension": ".py",
   "mimetype": "text/x-python",
   "name": "python",
   "nbconvert_exporter": "python",
   "pygments_lexer": "ipython3",
   "version": "3.12.9"
  }
 },
 "nbformat": 4,
 "nbformat_minor": 0
}
